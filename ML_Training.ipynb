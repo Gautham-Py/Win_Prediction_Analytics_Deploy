{
 "cells": [
  {
   "cell_type": "markdown",
   "id": "56d2e3c8",
   "metadata": {},
   "source": [
    "## Model Training"
   ]
  },
  {
   "cell_type": "code",
   "execution_count": 1,
   "id": "ec96694b",
   "metadata": {},
   "outputs": [],
   "source": [
    "import os\n",
    "import pandas   as pd\n",
    "import numpy    as np\n",
    "import seaborn  as sns\n",
    "import matplotlib.pyplot as plt\n",
    "%matplotlib inline\n",
    "import warnings\n",
    "warnings.filterwarnings(\"ignore\")\n",
    "\n",
    "from sklearn.metrics import roc_curve\n",
    "from sklearn.metrics import roc_auc_score\n",
    "from sklearn.metrics import confusion_matrix, ConfusionMatrixDisplay\n",
    "from sklearn.metrics import classification_report\n",
    "from sklearn.metrics import accuracy_score"
   ]
  },
  {
   "cell_type": "code",
   "execution_count": 2,
   "id": "3b04f81d",
   "metadata": {},
   "outputs": [],
   "source": [
    "os.chdir(\"E:/DATA SCIENCE/Capstone Project/Deploy\")"
   ]
  },
  {
   "cell_type": "code",
   "execution_count": 3,
   "id": "2e13c42a",
   "metadata": {},
   "outputs": [],
   "source": [
    "fullraw = pd.read_csv(\"Win_Prediction_Data.csv\")"
   ]
  },
  {
   "cell_type": "code",
   "execution_count": 4,
   "id": "751b6232",
   "metadata": {},
   "outputs": [
    {
     "data": {
      "text/html": [
       "<div>\n",
       "<style scoped>\n",
       "    .dataframe tbody tr th:only-of-type {\n",
       "        vertical-align: middle;\n",
       "    }\n",
       "\n",
       "    .dataframe tbody tr th {\n",
       "        vertical-align: top;\n",
       "    }\n",
       "\n",
       "    .dataframe thead th {\n",
       "        text-align: right;\n",
       "    }\n",
       "</style>\n",
       "<table border=\"1\" class=\"dataframe\">\n",
       "  <thead>\n",
       "    <tr style=\"text-align: right;\">\n",
       "      <th></th>\n",
       "      <th>Client Category</th>\n",
       "      <th>Solution Type</th>\n",
       "      <th>Deal Date</th>\n",
       "      <th>Sector</th>\n",
       "      <th>Location</th>\n",
       "      <th>VP Name</th>\n",
       "      <th>Manager Name</th>\n",
       "      <th>Deal Cost</th>\n",
       "      <th>Deal Status Code</th>\n",
       "    </tr>\n",
       "  </thead>\n",
       "  <tbody>\n",
       "    <tr>\n",
       "      <th>0</th>\n",
       "      <td>Telecom</td>\n",
       "      <td>Solution 7</td>\n",
       "      <td>27-Mar-12</td>\n",
       "      <td>Sector 24</td>\n",
       "      <td>L5</td>\n",
       "      <td>Ekta Zutshi</td>\n",
       "      <td>Gopa Trilochana</td>\n",
       "      <td>150000.00</td>\n",
       "      <td>Won</td>\n",
       "    </tr>\n",
       "    <tr>\n",
       "      <th>1</th>\n",
       "      <td>Telecom</td>\n",
       "      <td>Solution 7</td>\n",
       "      <td>25-Sep-12</td>\n",
       "      <td>Sector 24</td>\n",
       "      <td>L5</td>\n",
       "      <td>Ekta Zutshi</td>\n",
       "      <td>Gopa Trilochana</td>\n",
       "      <td>744705.88</td>\n",
       "      <td>Won</td>\n",
       "    </tr>\n",
       "    <tr>\n",
       "      <th>2</th>\n",
       "      <td>Internal</td>\n",
       "      <td>Solution 59</td>\n",
       "      <td>1-Aug-11</td>\n",
       "      <td>Sector 20</td>\n",
       "      <td>Others</td>\n",
       "      <td>Ekta Zutshi</td>\n",
       "      <td>Russell Dahlen</td>\n",
       "      <td>60000.00</td>\n",
       "      <td>Lost</td>\n",
       "    </tr>\n",
       "    <tr>\n",
       "      <th>3</th>\n",
       "      <td>Internal</td>\n",
       "      <td>Solution 59</td>\n",
       "      <td>28-Apr-11</td>\n",
       "      <td>Sector 20</td>\n",
       "      <td>Others</td>\n",
       "      <td>Ekta Zutshi</td>\n",
       "      <td>Russell Dahlen</td>\n",
       "      <td>60000.00</td>\n",
       "      <td>Lost</td>\n",
       "    </tr>\n",
       "    <tr>\n",
       "      <th>4</th>\n",
       "      <td>Internal</td>\n",
       "      <td>Solution 32</td>\n",
       "      <td>3-Jun-11</td>\n",
       "      <td>Sector 20</td>\n",
       "      <td>Others</td>\n",
       "      <td>Ekta Zutshi</td>\n",
       "      <td>Russell Dahlen</td>\n",
       "      <td>80882.35</td>\n",
       "      <td>Lost</td>\n",
       "    </tr>\n",
       "    <tr>\n",
       "      <th>...</th>\n",
       "      <td>...</td>\n",
       "      <td>...</td>\n",
       "      <td>...</td>\n",
       "      <td>...</td>\n",
       "      <td>...</td>\n",
       "      <td>...</td>\n",
       "      <td>...</td>\n",
       "      <td>...</td>\n",
       "      <td>...</td>\n",
       "    </tr>\n",
       "    <tr>\n",
       "      <th>10056</th>\n",
       "      <td>Power ind</td>\n",
       "      <td>Solution 9</td>\n",
       "      <td>18-Mar-19</td>\n",
       "      <td>Sector 9</td>\n",
       "      <td>L5</td>\n",
       "      <td>Rudraksh Sharma</td>\n",
       "      <td>Rudraksh Sharma</td>\n",
       "      <td>588235.29</td>\n",
       "      <td>Lost</td>\n",
       "    </tr>\n",
       "    <tr>\n",
       "      <th>10057</th>\n",
       "      <td>Internal</td>\n",
       "      <td>Solution 6</td>\n",
       "      <td>4-Mar-19</td>\n",
       "      <td>Sector 20</td>\n",
       "      <td>Others</td>\n",
       "      <td>Rudraksh Sharma</td>\n",
       "      <td>Sharavan Singh</td>\n",
       "      <td>777058.82</td>\n",
       "      <td>Won</td>\n",
       "    </tr>\n",
       "    <tr>\n",
       "      <th>10058</th>\n",
       "      <td>Power ind</td>\n",
       "      <td>Solution 9</td>\n",
       "      <td>28-Feb-19</td>\n",
       "      <td>Sector 9</td>\n",
       "      <td>L5</td>\n",
       "      <td>Rudraksh Sharma</td>\n",
       "      <td>Rudraksh Sharma</td>\n",
       "      <td>588235.29</td>\n",
       "      <td>Lost</td>\n",
       "    </tr>\n",
       "    <tr>\n",
       "      <th>10059</th>\n",
       "      <td>Power ind</td>\n",
       "      <td>Solution 62</td>\n",
       "      <td>27-Jan-19</td>\n",
       "      <td>Sector 9</td>\n",
       "      <td>L5</td>\n",
       "      <td>Man Suddeth</td>\n",
       "      <td>Cleotilde Biron</td>\n",
       "      <td>3042058.82</td>\n",
       "      <td>Won</td>\n",
       "    </tr>\n",
       "    <tr>\n",
       "      <th>10060</th>\n",
       "      <td>Others</td>\n",
       "      <td>Solution 9</td>\n",
       "      <td>30-May-19</td>\n",
       "      <td>Sector 12</td>\n",
       "      <td>L10</td>\n",
       "      <td>Son Mcconnaughy</td>\n",
       "      <td>Tarun Garg</td>\n",
       "      <td>147058.82</td>\n",
       "      <td>Lost</td>\n",
       "    </tr>\n",
       "  </tbody>\n",
       "</table>\n",
       "<p>10061 rows × 9 columns</p>\n",
       "</div>"
      ],
      "text/plain": [
       "      Client Category Solution Type  Deal Date     Sector Location  \\\n",
       "0             Telecom    Solution 7  27-Mar-12  Sector 24       L5   \n",
       "1             Telecom    Solution 7  25-Sep-12  Sector 24       L5   \n",
       "2            Internal   Solution 59   1-Aug-11  Sector 20   Others   \n",
       "3            Internal   Solution 59  28-Apr-11  Sector 20   Others   \n",
       "4            Internal   Solution 32   3-Jun-11  Sector 20   Others   \n",
       "...               ...           ...        ...        ...      ...   \n",
       "10056       Power ind    Solution 9  18-Mar-19   Sector 9       L5   \n",
       "10057        Internal    Solution 6   4-Mar-19  Sector 20   Others   \n",
       "10058       Power ind    Solution 9  28-Feb-19   Sector 9       L5   \n",
       "10059       Power ind   Solution 62  27-Jan-19   Sector 9       L5   \n",
       "10060          Others    Solution 9  30-May-19  Sector 12      L10   \n",
       "\n",
       "               VP Name     Manager Name   Deal Cost Deal Status Code  \n",
       "0          Ekta Zutshi  Gopa Trilochana   150000.00              Won  \n",
       "1          Ekta Zutshi  Gopa Trilochana   744705.88              Won  \n",
       "2          Ekta Zutshi   Russell Dahlen    60000.00             Lost  \n",
       "3          Ekta Zutshi   Russell Dahlen    60000.00             Lost  \n",
       "4          Ekta Zutshi   Russell Dahlen    80882.35             Lost  \n",
       "...                ...              ...         ...              ...  \n",
       "10056  Rudraksh Sharma  Rudraksh Sharma   588235.29             Lost  \n",
       "10057  Rudraksh Sharma   Sharavan Singh   777058.82              Won  \n",
       "10058  Rudraksh Sharma  Rudraksh Sharma   588235.29             Lost  \n",
       "10059      Man Suddeth  Cleotilde Biron  3042058.82              Won  \n",
       "10060  Son Mcconnaughy       Tarun Garg   147058.82             Lost  \n",
       "\n",
       "[10061 rows x 9 columns]"
      ]
     },
     "execution_count": 4,
     "metadata": {},
     "output_type": "execute_result"
    }
   ],
   "source": [
    "fullraw"
   ]
  },
  {
   "cell_type": "code",
   "execution_count": 5,
   "id": "044dcfdc",
   "metadata": {},
   "outputs": [
    {
     "data": {
      "text/html": [
       "<div>\n",
       "<style scoped>\n",
       "    .dataframe tbody tr th:only-of-type {\n",
       "        vertical-align: middle;\n",
       "    }\n",
       "\n",
       "    .dataframe tbody tr th {\n",
       "        vertical-align: top;\n",
       "    }\n",
       "\n",
       "    .dataframe thead th {\n",
       "        text-align: right;\n",
       "    }\n",
       "</style>\n",
       "<table border=\"1\" class=\"dataframe\">\n",
       "  <thead>\n",
       "    <tr style=\"text-align: right;\">\n",
       "      <th></th>\n",
       "      <th>Client Category</th>\n",
       "      <th>Solution Type</th>\n",
       "      <th>Deal Date</th>\n",
       "      <th>Sector</th>\n",
       "      <th>Location</th>\n",
       "      <th>VP Name</th>\n",
       "      <th>Manager Name</th>\n",
       "      <th>Deal Status Code</th>\n",
       "    </tr>\n",
       "  </thead>\n",
       "  <tbody>\n",
       "    <tr>\n",
       "      <th>count</th>\n",
       "      <td>9982</td>\n",
       "      <td>10061</td>\n",
       "      <td>10061</td>\n",
       "      <td>10061</td>\n",
       "      <td>10061</td>\n",
       "      <td>10061</td>\n",
       "      <td>10061</td>\n",
       "      <td>10061</td>\n",
       "    </tr>\n",
       "    <tr>\n",
       "      <th>unique</th>\n",
       "      <td>41</td>\n",
       "      <td>67</td>\n",
       "      <td>2555</td>\n",
       "      <td>25</td>\n",
       "      <td>13</td>\n",
       "      <td>43</td>\n",
       "      <td>278</td>\n",
       "      <td>2</td>\n",
       "    </tr>\n",
       "    <tr>\n",
       "      <th>top</th>\n",
       "      <td>Others</td>\n",
       "      <td>Solution 32</td>\n",
       "      <td>27-Jul-18</td>\n",
       "      <td>Sector 23</td>\n",
       "      <td>L10</td>\n",
       "      <td>Mervin Harwood</td>\n",
       "      <td>Molly Eakes</td>\n",
       "      <td>Lost</td>\n",
       "    </tr>\n",
       "    <tr>\n",
       "      <th>freq</th>\n",
       "      <td>1763</td>\n",
       "      <td>1439</td>\n",
       "      <td>15</td>\n",
       "      <td>2693</td>\n",
       "      <td>3360</td>\n",
       "      <td>1166</td>\n",
       "      <td>323</td>\n",
       "      <td>6306</td>\n",
       "    </tr>\n",
       "  </tbody>\n",
       "</table>\n",
       "</div>"
      ],
      "text/plain": [
       "       Client Category Solution Type  Deal Date     Sector Location  \\\n",
       "count             9982         10061      10061      10061    10061   \n",
       "unique              41            67       2555         25       13   \n",
       "top             Others   Solution 32  27-Jul-18  Sector 23      L10   \n",
       "freq              1763          1439         15       2693     3360   \n",
       "\n",
       "               VP Name Manager Name Deal Status Code  \n",
       "count            10061        10061            10061  \n",
       "unique              43          278                2  \n",
       "top     Mervin Harwood  Molly Eakes             Lost  \n",
       "freq              1166          323             6306  "
      ]
     },
     "execution_count": 5,
     "metadata": {},
     "output_type": "execute_result"
    }
   ],
   "source": [
    "fullraw.describe(include = 'object')"
   ]
  },
  {
   "cell_type": "markdown",
   "id": "24280ae0",
   "metadata": {},
   "source": [
    "### Missing Value Treatment"
   ]
  },
  {
   "cell_type": "code",
   "execution_count": 6,
   "id": "c55b2acb",
   "metadata": {},
   "outputs": [
    {
     "data": {
      "text/plain": [
       "Client Category     79\n",
       "Solution Type        0\n",
       "Deal Date            0\n",
       "Sector               0\n",
       "Location             0\n",
       "VP Name              0\n",
       "Manager Name         0\n",
       "Deal Cost            0\n",
       "Deal Status Code     0\n",
       "dtype: int64"
      ]
     },
     "execution_count": 6,
     "metadata": {},
     "output_type": "execute_result"
    }
   ],
   "source": [
    "fullraw.isnull().sum()"
   ]
  },
  {
   "cell_type": "code",
   "execution_count": 7,
   "id": "751b39af",
   "metadata": {},
   "outputs": [],
   "source": [
    "fullraw['Client Category'] = fullraw['Client Category'].fillna(fullraw['Client Category'].mode()[0])"
   ]
  },
  {
   "cell_type": "code",
   "execution_count": 8,
   "id": "092b8f55",
   "metadata": {},
   "outputs": [
    {
     "data": {
      "text/plain": [
       "Client Category     0\n",
       "Solution Type       0\n",
       "Deal Date           0\n",
       "Sector              0\n",
       "Location            0\n",
       "VP Name             0\n",
       "Manager Name        0\n",
       "Deal Cost           0\n",
       "Deal Status Code    0\n",
       "dtype: int64"
      ]
     },
     "execution_count": 8,
     "metadata": {},
     "output_type": "execute_result"
    }
   ],
   "source": [
    "fullraw.isnull().sum()"
   ]
  },
  {
   "cell_type": "markdown",
   "id": "867231e6",
   "metadata": {},
   "source": [
    "#### Data PreProcessing"
   ]
  },
  {
   "cell_type": "markdown",
   "id": "087cb5bb",
   "metadata": {},
   "source": [
    "\n",
    "Handling \"0\" values in Deal_Cost with Median Value"
   ]
  },
  {
   "cell_type": "code",
   "execution_count": 9,
   "id": "d92e4151",
   "metadata": {},
   "outputs": [
    {
     "data": {
      "text/plain": [
       "382352.94"
      ]
     },
     "execution_count": 9,
     "metadata": {},
     "output_type": "execute_result"
    }
   ],
   "source": [
    "tempmedian = fullraw['Deal Cost'].median(); tempmedian"
   ]
  },
  {
   "cell_type": "code",
   "execution_count": 10,
   "id": "53359bd0",
   "metadata": {},
   "outputs": [],
   "source": [
    "fullraw['Deal Cost'].replace(0.00, tempmedian, inplace = True)"
   ]
  },
  {
   "cell_type": "markdown",
   "id": "01596141",
   "metadata": {},
   "source": [
    "Combine VP Name and Manager Name¶"
   ]
  },
  {
   "cell_type": "code",
   "execution_count": 11,
   "id": "7fd5848b",
   "metadata": {},
   "outputs": [],
   "source": [
    "fullraw['Vp_Manager'] = fullraw[\"VP Name\"] + \" \" + fullraw[\"Manager Name\"]"
   ]
  },
  {
   "cell_type": "markdown",
   "id": "e95ac851",
   "metadata": {},
   "source": [
    "### Dropping Column's from the data, which are not going to assist us in our model"
   ]
  },
  {
   "cell_type": "code",
   "execution_count": 12,
   "id": "e4de246f",
   "metadata": {},
   "outputs": [],
   "source": [
    "fullraw = fullraw.drop(['Deal Date'], axis = 1)\n",
    "\n",
    "fullraw = fullraw.drop([\"VP Name\"], axis = 1)\n",
    "\n",
    "fullraw = fullraw.drop([\"Manager Name\"], axis = 1)"
   ]
  },
  {
   "cell_type": "markdown",
   "id": "c85ac918",
   "metadata": {},
   "source": [
    "##### Feature Engineering"
   ]
  },
  {
   "cell_type": "markdown",
   "id": "786fd895",
   "metadata": {},
   "source": [
    "Recoding Dependant Variable"
   ]
  },
  {
   "cell_type": "code",
   "execution_count": 13,
   "id": "2d516957",
   "metadata": {},
   "outputs": [],
   "source": [
    "fullraw['Deal Status Code'] = np.where(fullraw[\"Deal Status Code\"] == \"Won\", 1, 0)"
   ]
  },
  {
   "cell_type": "code",
   "execution_count": 14,
   "id": "b4b947d8",
   "metadata": {},
   "outputs": [
    {
     "data": {
      "text/plain": [
       "0    6306\n",
       "1    3755\n",
       "Name: Deal Status Code, dtype: int64"
      ]
     },
     "execution_count": 14,
     "metadata": {},
     "output_type": "execute_result"
    }
   ],
   "source": [
    "fullraw['Deal Status Code'].value_counts()"
   ]
  },
  {
   "cell_type": "code",
   "execution_count": 15,
   "id": "35bfc178",
   "metadata": {},
   "outputs": [
    {
     "data": {
      "text/html": [
       "<div>\n",
       "<style scoped>\n",
       "    .dataframe tbody tr th:only-of-type {\n",
       "        vertical-align: middle;\n",
       "    }\n",
       "\n",
       "    .dataframe tbody tr th {\n",
       "        vertical-align: top;\n",
       "    }\n",
       "\n",
       "    .dataframe thead th {\n",
       "        text-align: right;\n",
       "    }\n",
       "</style>\n",
       "<table border=\"1\" class=\"dataframe\">\n",
       "  <thead>\n",
       "    <tr style=\"text-align: right;\">\n",
       "      <th></th>\n",
       "      <th>Client Category</th>\n",
       "      <th>Solution Type</th>\n",
       "      <th>Sector</th>\n",
       "      <th>Location</th>\n",
       "      <th>Deal Cost</th>\n",
       "      <th>Deal Status Code</th>\n",
       "      <th>Vp_Manager</th>\n",
       "    </tr>\n",
       "  </thead>\n",
       "  <tbody>\n",
       "    <tr>\n",
       "      <th>0</th>\n",
       "      <td>Telecom</td>\n",
       "      <td>Solution 7</td>\n",
       "      <td>Sector 24</td>\n",
       "      <td>L5</td>\n",
       "      <td>150000.00</td>\n",
       "      <td>1</td>\n",
       "      <td>Ekta Zutshi Gopa Trilochana</td>\n",
       "    </tr>\n",
       "    <tr>\n",
       "      <th>1</th>\n",
       "      <td>Telecom</td>\n",
       "      <td>Solution 7</td>\n",
       "      <td>Sector 24</td>\n",
       "      <td>L5</td>\n",
       "      <td>744705.88</td>\n",
       "      <td>1</td>\n",
       "      <td>Ekta Zutshi Gopa Trilochana</td>\n",
       "    </tr>\n",
       "    <tr>\n",
       "      <th>2</th>\n",
       "      <td>Internal</td>\n",
       "      <td>Solution 59</td>\n",
       "      <td>Sector 20</td>\n",
       "      <td>Others</td>\n",
       "      <td>60000.00</td>\n",
       "      <td>0</td>\n",
       "      <td>Ekta Zutshi Russell Dahlen</td>\n",
       "    </tr>\n",
       "    <tr>\n",
       "      <th>3</th>\n",
       "      <td>Internal</td>\n",
       "      <td>Solution 59</td>\n",
       "      <td>Sector 20</td>\n",
       "      <td>Others</td>\n",
       "      <td>60000.00</td>\n",
       "      <td>0</td>\n",
       "      <td>Ekta Zutshi Russell Dahlen</td>\n",
       "    </tr>\n",
       "    <tr>\n",
       "      <th>4</th>\n",
       "      <td>Internal</td>\n",
       "      <td>Solution 32</td>\n",
       "      <td>Sector 20</td>\n",
       "      <td>Others</td>\n",
       "      <td>80882.35</td>\n",
       "      <td>0</td>\n",
       "      <td>Ekta Zutshi Russell Dahlen</td>\n",
       "    </tr>\n",
       "    <tr>\n",
       "      <th>...</th>\n",
       "      <td>...</td>\n",
       "      <td>...</td>\n",
       "      <td>...</td>\n",
       "      <td>...</td>\n",
       "      <td>...</td>\n",
       "      <td>...</td>\n",
       "      <td>...</td>\n",
       "    </tr>\n",
       "    <tr>\n",
       "      <th>10056</th>\n",
       "      <td>Power ind</td>\n",
       "      <td>Solution 9</td>\n",
       "      <td>Sector 9</td>\n",
       "      <td>L5</td>\n",
       "      <td>588235.29</td>\n",
       "      <td>0</td>\n",
       "      <td>Rudraksh Sharma Rudraksh Sharma</td>\n",
       "    </tr>\n",
       "    <tr>\n",
       "      <th>10057</th>\n",
       "      <td>Internal</td>\n",
       "      <td>Solution 6</td>\n",
       "      <td>Sector 20</td>\n",
       "      <td>Others</td>\n",
       "      <td>777058.82</td>\n",
       "      <td>1</td>\n",
       "      <td>Rudraksh Sharma Sharavan Singh</td>\n",
       "    </tr>\n",
       "    <tr>\n",
       "      <th>10058</th>\n",
       "      <td>Power ind</td>\n",
       "      <td>Solution 9</td>\n",
       "      <td>Sector 9</td>\n",
       "      <td>L5</td>\n",
       "      <td>588235.29</td>\n",
       "      <td>0</td>\n",
       "      <td>Rudraksh Sharma Rudraksh Sharma</td>\n",
       "    </tr>\n",
       "    <tr>\n",
       "      <th>10059</th>\n",
       "      <td>Power ind</td>\n",
       "      <td>Solution 62</td>\n",
       "      <td>Sector 9</td>\n",
       "      <td>L5</td>\n",
       "      <td>3042058.82</td>\n",
       "      <td>1</td>\n",
       "      <td>Man Suddeth Cleotilde Biron</td>\n",
       "    </tr>\n",
       "    <tr>\n",
       "      <th>10060</th>\n",
       "      <td>Others</td>\n",
       "      <td>Solution 9</td>\n",
       "      <td>Sector 12</td>\n",
       "      <td>L10</td>\n",
       "      <td>147058.82</td>\n",
       "      <td>0</td>\n",
       "      <td>Son Mcconnaughy Tarun Garg</td>\n",
       "    </tr>\n",
       "  </tbody>\n",
       "</table>\n",
       "<p>10061 rows × 7 columns</p>\n",
       "</div>"
      ],
      "text/plain": [
       "      Client Category Solution Type     Sector Location   Deal Cost  \\\n",
       "0             Telecom    Solution 7  Sector 24       L5   150000.00   \n",
       "1             Telecom    Solution 7  Sector 24       L5   744705.88   \n",
       "2            Internal   Solution 59  Sector 20   Others    60000.00   \n",
       "3            Internal   Solution 59  Sector 20   Others    60000.00   \n",
       "4            Internal   Solution 32  Sector 20   Others    80882.35   \n",
       "...               ...           ...        ...      ...         ...   \n",
       "10056       Power ind    Solution 9   Sector 9       L5   588235.29   \n",
       "10057        Internal    Solution 6  Sector 20   Others   777058.82   \n",
       "10058       Power ind    Solution 9   Sector 9       L5   588235.29   \n",
       "10059       Power ind   Solution 62   Sector 9       L5  3042058.82   \n",
       "10060          Others    Solution 9  Sector 12      L10   147058.82   \n",
       "\n",
       "       Deal Status Code                       Vp_Manager  \n",
       "0                     1      Ekta Zutshi Gopa Trilochana  \n",
       "1                     1      Ekta Zutshi Gopa Trilochana  \n",
       "2                     0       Ekta Zutshi Russell Dahlen  \n",
       "3                     0       Ekta Zutshi Russell Dahlen  \n",
       "4                     0       Ekta Zutshi Russell Dahlen  \n",
       "...                 ...                              ...  \n",
       "10056                 0  Rudraksh Sharma Rudraksh Sharma  \n",
       "10057                 1   Rudraksh Sharma Sharavan Singh  \n",
       "10058                 0  Rudraksh Sharma Rudraksh Sharma  \n",
       "10059                 1      Man Suddeth Cleotilde Biron  \n",
       "10060                 0       Son Mcconnaughy Tarun Garg  \n",
       "\n",
       "[10061 rows x 7 columns]"
      ]
     },
     "execution_count": 15,
     "metadata": {},
     "output_type": "execute_result"
    }
   ],
   "source": [
    "fullraw"
   ]
  },
  {
   "cell_type": "markdown",
   "id": "c6f7557e",
   "metadata": {},
   "source": [
    "##### Target Gudided Ordinal Encoding"
   ]
  },
  {
   "cell_type": "code",
   "execution_count": 16,
   "id": "c44cb774",
   "metadata": {},
   "outputs": [],
   "source": [
    "col = ['Client Category', 'Solution Type', 'Sector', 'Location', 'Vp_Manager']"
   ]
  },
  {
   "cell_type": "markdown",
   "id": "5527bc49",
   "metadata": {},
   "source": [
    "##### Target Encode the categorical Data"
   ]
  },
  {
   "cell_type": "code",
   "execution_count": 17,
   "id": "f2e86d31",
   "metadata": {},
   "outputs": [
    {
     "data": {
      "text/html": [
       "<div>\n",
       "<style scoped>\n",
       "    .dataframe tbody tr th:only-of-type {\n",
       "        vertical-align: middle;\n",
       "    }\n",
       "\n",
       "    .dataframe tbody tr th {\n",
       "        vertical-align: top;\n",
       "    }\n",
       "\n",
       "    .dataframe thead th {\n",
       "        text-align: right;\n",
       "    }\n",
       "</style>\n",
       "<table border=\"1\" class=\"dataframe\">\n",
       "  <thead>\n",
       "    <tr style=\"text-align: right;\">\n",
       "      <th></th>\n",
       "      <th>Client Category</th>\n",
       "      <th>Solution Type</th>\n",
       "      <th>Sector</th>\n",
       "      <th>Location</th>\n",
       "      <th>Deal Cost</th>\n",
       "      <th>Deal Status Code</th>\n",
       "      <th>Vp_Manager</th>\n",
       "    </tr>\n",
       "  </thead>\n",
       "  <tbody>\n",
       "    <tr>\n",
       "      <th>0</th>\n",
       "      <td>29</td>\n",
       "      <td>35</td>\n",
       "      <td>16</td>\n",
       "      <td>10</td>\n",
       "      <td>150000.00</td>\n",
       "      <td>1</td>\n",
       "      <td>609</td>\n",
       "    </tr>\n",
       "    <tr>\n",
       "      <th>1</th>\n",
       "      <td>29</td>\n",
       "      <td>35</td>\n",
       "      <td>16</td>\n",
       "      <td>10</td>\n",
       "      <td>744705.88</td>\n",
       "      <td>1</td>\n",
       "      <td>609</td>\n",
       "    </tr>\n",
       "    <tr>\n",
       "      <th>2</th>\n",
       "      <td>39</td>\n",
       "      <td>31</td>\n",
       "      <td>22</td>\n",
       "      <td>12</td>\n",
       "      <td>60000.00</td>\n",
       "      <td>0</td>\n",
       "      <td>247</td>\n",
       "    </tr>\n",
       "    <tr>\n",
       "      <th>3</th>\n",
       "      <td>39</td>\n",
       "      <td>31</td>\n",
       "      <td>22</td>\n",
       "      <td>12</td>\n",
       "      <td>60000.00</td>\n",
       "      <td>0</td>\n",
       "      <td>247</td>\n",
       "    </tr>\n",
       "    <tr>\n",
       "      <th>4</th>\n",
       "      <td>39</td>\n",
       "      <td>53</td>\n",
       "      <td>22</td>\n",
       "      <td>12</td>\n",
       "      <td>80882.35</td>\n",
       "      <td>0</td>\n",
       "      <td>247</td>\n",
       "    </tr>\n",
       "    <tr>\n",
       "      <th>5</th>\n",
       "      <td>39</td>\n",
       "      <td>53</td>\n",
       "      <td>22</td>\n",
       "      <td>12</td>\n",
       "      <td>80882.35</td>\n",
       "      <td>0</td>\n",
       "      <td>247</td>\n",
       "    </tr>\n",
       "    <tr>\n",
       "      <th>6</th>\n",
       "      <td>39</td>\n",
       "      <td>31</td>\n",
       "      <td>12</td>\n",
       "      <td>6</td>\n",
       "      <td>526176.47</td>\n",
       "      <td>1</td>\n",
       "      <td>913</td>\n",
       "    </tr>\n",
       "    <tr>\n",
       "      <th>7</th>\n",
       "      <td>15</td>\n",
       "      <td>35</td>\n",
       "      <td>1</td>\n",
       "      <td>10</td>\n",
       "      <td>409705.88</td>\n",
       "      <td>0</td>\n",
       "      <td>397</td>\n",
       "    </tr>\n",
       "    <tr>\n",
       "      <th>8</th>\n",
       "      <td>36</td>\n",
       "      <td>41</td>\n",
       "      <td>8</td>\n",
       "      <td>6</td>\n",
       "      <td>1032352.94</td>\n",
       "      <td>1</td>\n",
       "      <td>929</td>\n",
       "    </tr>\n",
       "    <tr>\n",
       "      <th>9</th>\n",
       "      <td>39</td>\n",
       "      <td>31</td>\n",
       "      <td>22</td>\n",
       "      <td>12</td>\n",
       "      <td>558823.53</td>\n",
       "      <td>0</td>\n",
       "      <td>133</td>\n",
       "    </tr>\n",
       "  </tbody>\n",
       "</table>\n",
       "</div>"
      ],
      "text/plain": [
       "   Client Category  Solution Type  Sector  Location   Deal Cost  \\\n",
       "0               29             35      16        10   150000.00   \n",
       "1               29             35      16        10   744705.88   \n",
       "2               39             31      22        12    60000.00   \n",
       "3               39             31      22        12    60000.00   \n",
       "4               39             53      22        12    80882.35   \n",
       "5               39             53      22        12    80882.35   \n",
       "6               39             31      12         6   526176.47   \n",
       "7               15             35       1        10   409705.88   \n",
       "8               36             41       8         6  1032352.94   \n",
       "9               39             31      22        12   558823.53   \n",
       "\n",
       "   Deal Status Code  Vp_Manager  \n",
       "0                 1         609  \n",
       "1                 1         609  \n",
       "2                 0         247  \n",
       "3                 0         247  \n",
       "4                 0         247  \n",
       "5                 0         247  \n",
       "6                 1         913  \n",
       "7                 0         397  \n",
       "8                 1         929  \n",
       "9                 0         133  "
      ]
     },
     "execution_count": 17,
     "metadata": {},
     "output_type": "execute_result"
    }
   ],
   "source": [
    "for feature in col:\n",
    "    ordinal_labels_1 = fullraw.groupby(feature)['Deal Status Code'].mean().sort_values().index\n",
    "    ordinal_labels_2={k:i for i,k in enumerate(ordinal_labels_1,0)}\n",
    "    fullraw[feature]=fullraw[feature].map(ordinal_labels_2)\n",
    "\n",
    "fullraw.head(10)  "
   ]
  },
  {
   "cell_type": "code",
   "execution_count": 18,
   "id": "7d087525",
   "metadata": {},
   "outputs": [],
   "source": [
    "col = ['Client_Category', 'Solution_Type', 'Sector', 'Location','Deal_Cost','Deal_Status','VPManager']"
   ]
  },
  {
   "cell_type": "code",
   "execution_count": 19,
   "id": "d5bcd12e",
   "metadata": {},
   "outputs": [],
   "source": [
    "fullraw.columns = col "
   ]
  },
  {
   "cell_type": "markdown",
   "id": "215aa78f",
   "metadata": {},
   "source": [
    "##### Splitting"
   ]
  },
  {
   "cell_type": "code",
   "execution_count": 20,
   "id": "644d0c7b",
   "metadata": {},
   "outputs": [],
   "source": [
    "from sklearn.model_selection import train_test_split\n",
    "\n",
    "Train, Test = train_test_split(fullraw, train_size = 0.80, random_state = 137)"
   ]
  },
  {
   "cell_type": "markdown",
   "id": "f46549c6",
   "metadata": {},
   "source": [
    "#### Sampling into X and Y"
   ]
  },
  {
   "cell_type": "code",
   "execution_count": 21,
   "id": "e28a41a5",
   "metadata": {},
   "outputs": [],
   "source": [
    "depvar = \"Deal_Status\""
   ]
  },
  {
   "cell_type": "code",
   "execution_count": 22,
   "id": "0021caa9",
   "metadata": {},
   "outputs": [],
   "source": [
    "TrainX = Train.drop(depvar, axis = 1).copy()\n",
    "\n",
    "TrainY = Train[depvar].copy()"
   ]
  },
  {
   "cell_type": "code",
   "execution_count": 23,
   "id": "ebd722ba",
   "metadata": {},
   "outputs": [],
   "source": [
    "TestX = Test.drop(depvar, axis= 1).copy()\n",
    "\n",
    "TestY = Test[depvar].copy()"
   ]
  },
  {
   "cell_type": "code",
   "execution_count": 24,
   "id": "37e52dac",
   "metadata": {},
   "outputs": [
    {
     "data": {
      "text/plain": [
       "(2013, 6)"
      ]
     },
     "execution_count": 24,
     "metadata": {},
     "output_type": "execute_result"
    }
   ],
   "source": [
    "TestX.shape"
   ]
  },
  {
   "cell_type": "code",
   "execution_count": 25,
   "id": "db310be9",
   "metadata": {},
   "outputs": [
    {
     "data": {
      "text/plain": [
       "8144    1\n",
       "2043    0\n",
       "2803    0\n",
       "7639    1\n",
       "9557    0\n",
       "       ..\n",
       "9139    0\n",
       "905     0\n",
       "6238    0\n",
       "7623    0\n",
       "9010    0\n",
       "Name: Deal_Status, Length: 2013, dtype: int32"
      ]
     },
     "execution_count": 25,
     "metadata": {},
     "output_type": "execute_result"
    }
   ],
   "source": [
    "TestY"
   ]
  },
  {
   "cell_type": "markdown",
   "id": "53e0f6ce",
   "metadata": {},
   "source": [
    "#### Model_Building"
   ]
  },
  {
   "cell_type": "markdown",
   "id": "e7c116fe",
   "metadata": {},
   "source": [
    "#### Random Forest"
   ]
  },
  {
   "cell_type": "code",
   "execution_count": 26,
   "id": "d589ec8f",
   "metadata": {},
   "outputs": [],
   "source": [
    "from sklearn.ensemble import RandomForestClassifier"
   ]
  },
  {
   "cell_type": "code",
   "execution_count": 27,
   "id": "9153b794",
   "metadata": {},
   "outputs": [],
   "source": [
    "Model_rf = RandomForestClassifier(random_state = 777).fit(TrainX, TrainY)"
   ]
  },
  {
   "cell_type": "markdown",
   "id": "7988ce7c",
   "metadata": {},
   "source": [
    "### Prediction & Validation on Test set"
   ]
  },
  {
   "cell_type": "code",
   "execution_count": 28,
   "id": "1694d832",
   "metadata": {},
   "outputs": [],
   "source": [
    "Test_Pred = Model_rf.predict(TestX)"
   ]
  },
  {
   "cell_type": "code",
   "execution_count": 29,
   "id": "13784a3e",
   "metadata": {},
   "outputs": [
    {
     "data": {
      "text/html": [
       "<div>\n",
       "<style scoped>\n",
       "    .dataframe tbody tr th:only-of-type {\n",
       "        vertical-align: middle;\n",
       "    }\n",
       "\n",
       "    .dataframe tbody tr th {\n",
       "        vertical-align: top;\n",
       "    }\n",
       "\n",
       "    .dataframe thead th {\n",
       "        text-align: right;\n",
       "    }\n",
       "</style>\n",
       "<table border=\"1\" class=\"dataframe\">\n",
       "  <thead>\n",
       "    <tr style=\"text-align: right;\">\n",
       "      <th>col_0</th>\n",
       "      <th>0</th>\n",
       "      <th>1</th>\n",
       "    </tr>\n",
       "    <tr>\n",
       "      <th>Deal_Status</th>\n",
       "      <th></th>\n",
       "      <th></th>\n",
       "    </tr>\n",
       "  </thead>\n",
       "  <tbody>\n",
       "    <tr>\n",
       "      <th>0</th>\n",
       "      <td>1202</td>\n",
       "      <td>56</td>\n",
       "    </tr>\n",
       "    <tr>\n",
       "      <th>1</th>\n",
       "      <td>248</td>\n",
       "      <td>507</td>\n",
       "    </tr>\n",
       "  </tbody>\n",
       "</table>\n",
       "</div>"
      ],
      "text/plain": [
       "col_0           0    1\n",
       "Deal_Status           \n",
       "0            1202   56\n",
       "1             248  507"
      ]
     },
     "execution_count": 29,
     "metadata": {},
     "output_type": "execute_result"
    }
   ],
   "source": [
    "Confu_mat = pd.crosstab(TestY, Test_Pred);Confu_mat"
   ]
  },
  {
   "cell_type": "markdown",
   "id": "5ad20c28",
   "metadata": {},
   "source": [
    "##### Visualize Confusion_Matrix"
   ]
  },
  {
   "cell_type": "code",
   "execution_count": 30,
   "id": "ea359fdd",
   "metadata": {},
   "outputs": [
    {
     "data": {
      "text/plain": [
       "<sklearn.metrics._plot.confusion_matrix.ConfusionMatrixDisplay at 0x1a52a856c40>"
      ]
     },
     "execution_count": 30,
     "metadata": {},
     "output_type": "execute_result"
    },
    {
     "data": {
      "image/png": "[encoded data removed]",
      "text/plain": [
       "<Figure size 432x288 with 2 Axes>"
      ]
     },
     "metadata": {
      "needs_background": "light"
     },
     "output_type": "display_data"
    }
   ],
   "source": [
    "Cm1 = confusion_matrix(TestY, Test_Pred, labels = Model_rf.classes_ )\n",
    "\n",
    "disp = ConfusionMatrixDisplay( confusion_matrix = Cm1, display_labels = Model_rf.classes_)\n",
    "disp.plot()"
   ]
  },
  {
   "cell_type": "code",
   "execution_count": 31,
   "id": "029aa8d2",
   "metadata": {},
   "outputs": [
    {
     "name": "stdout",
     "output_type": "stream",
     "text": [
      "              precision    recall  f1-score   support\n",
      "\n",
      "           0       0.83      0.96      0.89      1258\n",
      "           1       0.90      0.67      0.77       755\n",
      "\n",
      "    accuracy                           0.85      2013\n",
      "   macro avg       0.86      0.81      0.83      2013\n",
      "weighted avg       0.86      0.85      0.84      2013\n",
      "\n",
      "Accuracy Score: 0.8489816194734228\n"
     ]
    }
   ],
   "source": [
    "print(classification_report(TestY, Test_Pred))\n",
    "\n",
    "a = accuracy_score(TestY, Test_Pred)\n",
    "print(\"Accuracy Score:\", a)"
   ]
  },
  {
   "cell_type": "markdown",
   "id": "8d7a964f",
   "metadata": {},
   "source": [
    "#### Creating Pickle File"
   ]
  },
  {
   "cell_type": "code",
   "execution_count": 32,
   "id": "aea3bc3f",
   "metadata": {},
   "outputs": [],
   "source": [
    "import pickle\n",
    "pickle_out = open(\"classifier.pkl\",\"wb\")\n",
    "pickle.dump(Model_rf, pickle_out)\n",
    "pickle_out.close()"
   ]
  },
  {
   "cell_type": "code",
   "execution_count": 33,
   "id": "f3ae8e36",
   "metadata": {},
   "outputs": [
    {
     "data": {
      "text/html": [
       "<div>\n",
       "<style scoped>\n",
       "    .dataframe tbody tr th:only-of-type {\n",
       "        vertical-align: middle;\n",
       "    }\n",
       "\n",
       "    .dataframe tbody tr th {\n",
       "        vertical-align: top;\n",
       "    }\n",
       "\n",
       "    .dataframe thead th {\n",
       "        text-align: right;\n",
       "    }\n",
       "</style>\n",
       "<table border=\"1\" class=\"dataframe\">\n",
       "  <thead>\n",
       "    <tr style=\"text-align: right;\">\n",
       "      <th></th>\n",
       "      <th>Client_Category</th>\n",
       "      <th>Solution_Type</th>\n",
       "      <th>Sector</th>\n",
       "      <th>Location</th>\n",
       "      <th>Deal_Cost</th>\n",
       "      <th>VPManager</th>\n",
       "    </tr>\n",
       "  </thead>\n",
       "  <tbody>\n",
       "    <tr>\n",
       "      <th>8144</th>\n",
       "      <td>39</td>\n",
       "      <td>21</td>\n",
       "      <td>22</td>\n",
       "      <td>12</td>\n",
       "      <td>147058.82</td>\n",
       "      <td>391</td>\n",
       "    </tr>\n",
       "    <tr>\n",
       "      <th>2043</th>\n",
       "      <td>32</td>\n",
       "      <td>26</td>\n",
       "      <td>3</td>\n",
       "      <td>10</td>\n",
       "      <td>147058.82</td>\n",
       "      <td>494</td>\n",
       "    </tr>\n",
       "    <tr>\n",
       "      <th>2803</th>\n",
       "      <td>33</td>\n",
       "      <td>30</td>\n",
       "      <td>12</td>\n",
       "      <td>6</td>\n",
       "      <td>1441176.47</td>\n",
       "      <td>317</td>\n",
       "    </tr>\n",
       "    <tr>\n",
       "      <th>7639</th>\n",
       "      <td>20</td>\n",
       "      <td>36</td>\n",
       "      <td>20</td>\n",
       "      <td>6</td>\n",
       "      <td>294117.65</td>\n",
       "      <td>579</td>\n",
       "    </tr>\n",
       "    <tr>\n",
       "      <th>9557</th>\n",
       "      <td>24</td>\n",
       "      <td>23</td>\n",
       "      <td>17</td>\n",
       "      <td>6</td>\n",
       "      <td>470588.24</td>\n",
       "      <td>402</td>\n",
       "    </tr>\n",
       "  </tbody>\n",
       "</table>\n",
       "</div>"
      ],
      "text/plain": [
       "      Client_Category  Solution_Type  Sector  Location   Deal_Cost  VPManager\n",
       "8144               39             21      22        12   147058.82        391\n",
       "2043               32             26       3        10   147058.82        494\n",
       "2803               33             30      12         6  1441176.47        317\n",
       "7639               20             36      20         6   294117.65        579\n",
       "9557               24             23      17         6   470588.24        402"
      ]
     },
     "execution_count": 33,
     "metadata": {},
     "output_type": "execute_result"
    }
   ],
   "source": [
    "TestX.head()"
   ]
  },
  {
   "cell_type": "code",
   "execution_count": 34,
   "id": "04b899b9",
   "metadata": {},
   "outputs": [
    {
     "data": {
      "text/plain": [
       "array([0])"
      ]
     },
     "execution_count": 34,
     "metadata": {},
     "output_type": "execute_result"
    }
   ],
   "source": [
    "Model_rf.predict([[39,21,22,12,147058.82,391]])"
   ]
  }
 ],
 "metadata": {
  "kernelspec": {
   "display_name": "Python 3",
   "language": "python",
   "name": "python3"
  },
  "language_info": {
   "codemirror_mode": {
    "name": "ipython",
    "version": 3
   },
   "file_extension": ".py",
   "mimetype": "text/x-python",
   "name": "python",
   "nbconvert_exporter": "python",
   "pygments_lexer": "ipython3",
   "version": "3.8.8"
  }
 },
 "nbformat": 4,
 "nbformat_minor": 5
}
